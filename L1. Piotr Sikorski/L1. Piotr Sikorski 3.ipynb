{
 "cells": [
  {
   "cell_type": "markdown",
   "metadata": {},
   "source": [
    "# Labolatorium 1\n",
    "*Piotr Sikorski, gr.3, nr 406320*\n",
    "\n",
    "\n",
    "## Zadanie 3"
   ]
  },
  {
   "cell_type": "code",
   "execution_count": null,
   "metadata": {},
   "outputs": [],
   "source": [
    "# kod wstępny\n",
    "import numpy as np\n",
    "import matplotlib as plt\n",
    "\n",
    "# deklaracja funkcji\n",
    "f = lambda x: x**2 + 5"
   ]
  },
  {
   "cell_type": "markdown",
   "metadata": {},
   "source": [
    "Wykresy funkcji dla podanych przedziałów"
   ]
  },
  {
   "cell_type": "code",
   "execution_count": null,
   "metadata": {},
   "outputs": [],
   "source": [
    "x = np.linspace(-1, 1, 20)\n",
    "\n",
    "plt.figure()\n",
    "plt.plot(x, f(x))\n",
    "plt.xlabel(\"x\")\n",
    "plt.ylabel(\"y\")\n",
    "plt.title(\"Wartość funkcji x^2 + 5 w przedziale (-1; 1)\")"
   ]
  },
  {
   "cell_type": "code",
   "execution_count": null,
   "metadata": {},
   "outputs": [],
   "source": []
  }
 ],
 "metadata": {
  "language_info": {
   "name": "python"
  },
  "orig_nbformat": 4
 },
 "nbformat": 4,
 "nbformat_minor": 2
}
